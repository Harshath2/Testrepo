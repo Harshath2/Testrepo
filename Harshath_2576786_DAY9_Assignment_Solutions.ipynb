{
 "cells": [
  {
   "cell_type": "markdown",
   "id": "57530ccd",
   "metadata": {},
   "source": [
    "# 1. Create a 3x3x3 array with random values"
   ]
  },
  {
   "cell_type": "code",
   "execution_count": 8,
   "id": "8c1aeb0f",
   "metadata": {},
   "outputs": [
    {
     "name": "stdout",
     "output_type": "stream",
     "text": [
      "[[[0.51209543 0.36034383 0.11665809]\n",
      "  [0.3156416  0.53186678 0.80955842]\n",
      "  [0.00568395 0.49942225 0.96281909]]\n",
      "\n",
      " [[0.14638405 0.64953826 0.78479566]\n",
      "  [0.22298661 0.54398    0.93386446]\n",
      "  [0.68789081 0.88620105 0.96197662]]\n",
      "\n",
      " [[0.02856858 0.9191755  0.04455703]\n",
      "  [0.25127415 0.49503974 0.75518387]\n",
      "  [0.30591768 0.83564876 0.34239674]]]\n"
     ]
    }
   ],
   "source": [
    "import numpy as np\n",
    "\n",
    "# Create a 3x3x3 array with random values between 0 and 1\n",
    "random_array = np.random.rand(3, 3, 3)\n",
    "\n",
    "print(random_array)"
   ]
  },
  {
   "cell_type": "markdown",
   "id": "486806ac",
   "metadata": {},
   "source": [
    "# 2. Create a 5x5 matrix with values 1,2,3,4 just below the diagonal"
   ]
  },
  {
   "cell_type": "code",
   "execution_count": 9,
   "id": "e4100d1a",
   "metadata": {},
   "outputs": [
    {
     "name": "stdout",
     "output_type": "stream",
     "text": [
      "[[0 0 0 0 0]\n",
      " [1 0 0 0 0]\n",
      " [0 2 0 0 0]\n",
      " [0 0 3 0 0]\n",
      " [0 0 0 4 0]]\n"
     ]
    }
   ],
   "source": [
    "import numpy as np\n",
    "\n",
    "# Create a 5x5 matrix with values 1, 2, 3, 4 below the diagonal\n",
    "matrix = np.diag(1 + np.arange(4), k=-1)\n",
    "\n",
    "print(matrix)"
   ]
  },
  {
   "cell_type": "markdown",
   "id": "3e19890e",
   "metadata": {},
   "source": [
    "# 3. Create a 8x8 matrix and fill it with a checkboard pattern"
   ]
  },
  {
   "cell_type": "code",
   "execution_count": 10,
   "id": "a1f7ee83",
   "metadata": {},
   "outputs": [
    {
     "name": "stdout",
     "output_type": "stream",
     "text": [
      "[[0 1 0 1 0 1 0 1]\n",
      " [1 0 1 0 1 0 1 0]\n",
      " [0 1 0 1 0 1 0 1]\n",
      " [1 0 1 0 1 0 1 0]\n",
      " [0 1 0 1 0 1 0 1]\n",
      " [1 0 1 0 1 0 1 0]\n",
      " [0 1 0 1 0 1 0 1]\n",
      " [1 0 1 0 1 0 1 0]]\n"
     ]
    }
   ],
   "source": [
    "import numpy as np\n",
    "\n",
    "# Create an 8x8 matrix filled with a checkerboard pattern\n",
    "checkerboard = np.zeros((8, 8), dtype=int)\n",
    "checkerboard[1::2, ::2] = 1\n",
    "checkerboard[::2, 1::2] = 1\n",
    "\n",
    "print(checkerboard)"
   ]
  },
  {
   "cell_type": "markdown",
   "id": "85050d55",
   "metadata": {},
   "source": [
    "# 4. Normalize a 5x5 random matrix"
   ]
  },
  {
   "cell_type": "code",
   "execution_count": 35,
   "id": "21fe0770",
   "metadata": {},
   "outputs": [
    {
     "name": "stdout",
     "output_type": "stream",
     "text": [
      "Original matrix:\n",
      "[[0.5839895  0.64678134 0.78260021 0.34330945 0.64948824]\n",
      " [0.50809596 0.29176263 0.47351993 0.70818892 0.46759753]\n",
      " [0.74083847 0.50172124 0.13547429 0.16928121 0.76351565]\n",
      " [0.80709487 0.57607318 0.86760025 0.56631304 0.62549292]\n",
      " [0.59766966 0.4099228  0.90868675 0.24562684 0.26711558]]\n",
      "\n",
      "Normalized matrix:\n",
      "[[ 0.1817323   0.47829095  1.11974795 -0.954972    0.49107533]\n",
      " [-0.1767042  -1.19842176 -0.34000283  0.76831193 -0.36797364]\n",
      " [ 0.92251201 -0.20681129 -1.93655367 -1.77688744  1.02961373]\n",
      " [ 1.23543339  0.14434443  1.52119338  0.0982484   0.3777482 ]\n",
      " [ 0.24634212 -0.64036478  1.7152402  -1.41631577 -1.31482695]]\n"
     ]
    }
   ],
   "source": [
    "import numpy as np\n",
    "\n",
    "# Create a random 5x5 matrix\n",
    "random_matrix = np.random.rand(5, 5)\n",
    "\n",
    "# Calculate the mean and standard deviation of the matrix\n",
    "mean = np.mean(random_matrix)\n",
    "std_dev = np.std(random_matrix)\n",
    "\n",
    "# Normalize the matrix\n",
    "normalized_matrix = (random_matrix - mean) / std_dev\n",
    "\n",
    "# Print the normalized matrix\n",
    "print(\"Original matrix:\")\n",
    "print(random_matrix)\n",
    "print(\"\\nNormalized matrix:\")\n",
    "print(normalized_matrix)"
   ]
  },
  {
   "cell_type": "markdown",
   "id": "d611362d",
   "metadata": {},
   "source": [
    "# 5. How to find common values between two arrays?"
   ]
  },
  {
   "cell_type": "code",
   "execution_count": 12,
   "id": "2d0ebac5",
   "metadata": {},
   "outputs": [
    {
     "name": "stdout",
     "output_type": "stream",
     "text": [
      "Common Values: [3 4 5]\n"
     ]
    }
   ],
   "source": [
    "import numpy as np\n",
    "\n",
    "# Define two arrays\n",
    "array1 = np.array([1, 2, 3, 4, 5])\n",
    "array2 = np.array([3, 4, 5, 6, 7])\n",
    "\n",
    "# Find the common values between the two arrays\n",
    "common_values = np.intersect1d(array1, array2)\n",
    "\n",
    "print(\"Common Values:\", common_values)"
   ]
  },
  {
   "cell_type": "markdown",
   "id": "421ddee4",
   "metadata": {},
   "source": [
    "# 6. How to get the dates of yesterday,today and tomorrow?"
   ]
  },
  {
   "cell_type": "code",
   "execution_count": 13,
   "id": "41499e27",
   "metadata": {},
   "outputs": [
    {
     "name": "stdout",
     "output_type": "stream",
     "text": [
      "Yesterday: 2023-09-20\n",
      "Today: 2023-09-21\n",
      "Tomorrow: 2023-09-22\n"
     ]
    }
   ],
   "source": [
    "from datetime import datetime, timedelta\n",
    "\n",
    "# Get the current date (today)\n",
    "today = datetime.now()\n",
    "\n",
    "# Calculate yesterday and tomorrow dates\n",
    "yesterday = today - timedelta(days=1)\n",
    "tomorrow = today + timedelta(days=1)\n",
    "\n",
    "# Format the dates as strings (optional)\n",
    "today_str = today.strftime('%Y-%m-%d')\n",
    "yesterday_str = yesterday.strftime('%Y-%m-%d')\n",
    "tomorrow_str = tomorrow.strftime('%Y-%m-%d')\n",
    "\n",
    "print(\"Yesterday:\", yesterday_str)\n",
    "print(\"Today:\", today_str)\n",
    "print(\"Tomorrow:\", tomorrow_str)"
   ]
  },
  {
   "cell_type": "markdown",
   "id": "cdf17426",
   "metadata": {},
   "source": [
    "# 7. Consider two random array A and B, Check if they are equal"
   ]
  },
  {
   "cell_type": "code",
   "execution_count": 38,
   "id": "7ac34e46",
   "metadata": {},
   "outputs": [
    {
     "name": "stdout",
     "output_type": "stream",
     "text": [
      "Arrays A and B are not equal.\n"
     ]
    }
   ],
   "source": [
    "import numpy as np\n",
    "\n",
    "# Create two random arrays A and B\n",
    "A = np.random.rand(10)\n",
    "B = np.random.rand(10)\n",
    "\n",
    "# Check if arrays A and B are equal\n",
    "are_equal = np.array_equal(A, B)\n",
    "\n",
    "if are_equal:\n",
    "    print(\"Arrays A and B are equal.\")\n",
    "else:\n",
    "    print(\"Arrays A and B are not equal.\")"
   ]
  },
  {
   "cell_type": "markdown",
   "id": "1e22b3f2",
   "metadata": {},
   "source": [
    "# 8. Create random vector of size 10 and replace the maximum value by 0"
   ]
  },
  {
   "cell_type": "code",
   "execution_count": 15,
   "id": "2b3aea73",
   "metadata": {},
   "outputs": [
    {
     "name": "stdout",
     "output_type": "stream",
     "text": [
      "Random Vector with the Maximum Value Replaced:\n",
      "[0.26636758 0.73361948 0.18401459 0.7899183  0.62598314 0.41724948\n",
      " 0.734656   0.32776223 0.         0.48837406]\n"
     ]
    }
   ],
   "source": [
    "import numpy as np\n",
    "\n",
    "# Create a random vector of size 10\n",
    "random_vector = np.random.rand(10)\n",
    "\n",
    "# Find the index of the maximum value in the vector\n",
    "max_index = np.argmax(random_vector)\n",
    "\n",
    "# Replace the maximum value with 0\n",
    "random_vector[max_index] = 0\n",
    "\n",
    "print(\"Random Vector with the Maximum Value Replaced:\")\n",
    "print(random_vector)"
   ]
  },
  {
   "cell_type": "markdown",
   "id": "35581c69",
   "metadata": {},
   "source": [
    "# 9. How to print all the values of an array?"
   ]
  },
  {
   "cell_type": "code",
   "execution_count": 16,
   "id": "48b0c98f",
   "metadata": {},
   "outputs": [
    {
     "name": "stdout",
     "output_type": "stream",
     "text": [
      "1\n",
      "2\n",
      "3\n",
      "4\n",
      "5\n"
     ]
    }
   ],
   "source": [
    "import numpy as np\n",
    "\n",
    "# Create a NumPy array\n",
    "my_array = np.array([1, 2, 3, 4, 5])\n",
    "\n",
    "# Print all the values of the array\n",
    "for value in my_array:\n",
    "    print(value)"
   ]
  },
  {
   "cell_type": "markdown",
   "id": "b845c87f",
   "metadata": {},
   "source": [
    "# 10. Subtract the mean of each row of a matrix"
   ]
  },
  {
   "cell_type": "code",
   "execution_count": 17,
   "id": "be2f01ba",
   "metadata": {},
   "outputs": [
    {
     "name": "stdout",
     "output_type": "stream",
     "text": [
      "Original Matrix:\n",
      "[[1 2 3]\n",
      " [4 5 6]\n",
      " [7 8 9]]\n",
      "\n",
      "Matrix with Row-Means Subtracted:\n",
      "[[-1.  0.  1.]\n",
      " [-1.  0.  1.]\n",
      " [-1.  0.  1.]]\n"
     ]
    }
   ],
   "source": [
    "import numpy as np\n",
    "\n",
    "# Create a sample matrix\n",
    "matrix = np.array([[1, 2, 3],\n",
    "                   [4, 5, 6],\n",
    "                   [7, 8, 9]])\n",
    "\n",
    "# Calculate the row-wise means\n",
    "row_means = np.mean(matrix, axis=1, keepdims=True)\n",
    "\n",
    "# Subtract the row-wise means from the matrix\n",
    "normalized_matrix = matrix - row_means\n",
    "\n",
    "print(\"Original Matrix:\")\n",
    "print(matrix)\n",
    "\n",
    "print(\"\\nMatrix with Row-Means Subtracted:\")\n",
    "print(normalized_matrix)"
   ]
  },
  {
   "cell_type": "markdown",
   "id": "9f7ea50c",
   "metadata": {},
   "source": [
    "# 11. Consider a given vector, how to add 1 to each element indexed by a second vector( be careful with repeated indices)?"
   ]
  },
  {
   "cell_type": "code",
   "execution_count": 18,
   "id": "162e7f06",
   "metadata": {},
   "outputs": [
    {
     "name": "stdout",
     "output_type": "stream",
     "text": [
      "Modified Vector:\n",
      "[1 3 3 5 5 7 7 9 9]\n"
     ]
    }
   ],
   "source": [
    "import numpy as np\n",
    "\n",
    "# Given vector\n",
    "given_vector = np.array([1, 2, 3, 4, 5, 6, 7, 8, 9])\n",
    "\n",
    "# Second vector containing indices where you want to add 1\n",
    "indices_to_add_1 = np.array([1, 3, 5, 1, 7])\n",
    "\n",
    "# Find unique indices to avoid repeated additions\n",
    "unique_indices = np.unique(indices_to_add_1)\n",
    "\n",
    "# Add 1 to elements at unique indices\n",
    "given_vector[unique_indices] += 1\n",
    "\n",
    "print(\"Modified Vector:\")\n",
    "print(given_vector)"
   ]
  },
  {
   "cell_type": "markdown",
   "id": "35b54591",
   "metadata": {},
   "source": [
    "# 12. How to get the diagonal of a dot product?"
   ]
  },
  {
   "cell_type": "code",
   "execution_count": 19,
   "id": "1c7eb944",
   "metadata": {},
   "outputs": [
    {
     "name": "stdout",
     "output_type": "stream",
     "text": [
      "Dot Product Matrix:\n",
      "[[ 30  24  18]\n",
      " [ 84  69  54]\n",
      " [138 114  90]]\n",
      "\n",
      "Diagonal Elements of Dot Product:\n",
      "[30 69 90]\n"
     ]
    }
   ],
   "source": [
    "import numpy as np\n",
    "\n",
    "# Define two matrices A and B\n",
    "A = np.array([[1, 2, 3],\n",
    "              [4, 5, 6],\n",
    "              [7, 8, 9]])\n",
    "\n",
    "B = np.array([[9, 8, 7],\n",
    "              [6, 5, 4],\n",
    "              [3, 2, 1]])\n",
    "\n",
    "# Compute the dot product of A and B\n",
    "dot_product = np.dot(A, B)\n",
    "\n",
    "# Extract the diagonal elements of the dot product matrix\n",
    "diagonal_elements = np.diag(dot_product)\n",
    "\n",
    "print(\"Dot Product Matrix:\")\n",
    "print(dot_product)\n",
    "\n",
    "print(\"\\nDiagonal Elements of Dot Product:\")\n",
    "print(diagonal_elements)"
   ]
  },
  {
   "cell_type": "markdown",
   "id": "5803d9a4",
   "metadata": {},
   "source": [
    "# 13. How to find the most frequent value in an array?"
   ]
  },
  {
   "cell_type": "code",
   "execution_count": 24,
   "id": "9879a601",
   "metadata": {},
   "outputs": [
    {
     "data": {
      "text/plain": [
       "array([6, 2, 2, 6, 2, 5, 6, 0, 1, 1, 6, 9, 4, 1, 7, 5, 7, 8, 1, 3, 2, 1,\n",
       "       1, 1, 2, 2, 1, 9, 9, 6, 9, 8, 0, 7, 3, 4, 6, 9, 8, 9, 5, 5, 7, 1,\n",
       "       8, 5, 0, 1, 3, 5])"
      ]
     },
     "execution_count": 24,
     "metadata": {},
     "output_type": "execute_result"
    }
   ],
   "source": [
    "x = np.random.randint(0,10,50)\n",
    "x"
   ]
  },
  {
   "cell_type": "code",
   "execution_count": 21,
   "id": "bdfe0cec",
   "metadata": {},
   "outputs": [
    {
     "name": "stdout",
     "output_type": "stream",
     "text": [
      "Most frequent value: 9\n"
     ]
    }
   ],
   "source": [
    "import numpy as np\n",
    "\n",
    "# Create the random NumPy array\n",
    "x = np.random.randint(0, 10, 50)\n",
    "\n",
    "# Use NumPy to find the most frequent value\n",
    "most_common_value = np.bincount(x).argmax()\n",
    "\n",
    "print(\"Most frequent value:\", most_common_value)"
   ]
  },
  {
   "cell_type": "markdown",
   "id": "e355c590",
   "metadata": {},
   "source": [
    "# 14. How to get the n largest values of an array"
   ]
  },
  {
   "cell_type": "code",
   "execution_count": 27,
   "id": "05ed6127",
   "metadata": {},
   "outputs": [
    {
     "name": "stdout",
     "output_type": "stream",
     "text": [
      "The 3 largest values in the array are: [ 7  9 10]\n"
     ]
    }
   ],
   "source": [
    "import numpy as np\n",
    "\n",
    "# Create an example NumPy array\n",
    "arr = np.array([3, 1, 9, 4, 7, 2, 10, 5, 6])\n",
    "\n",
    "# Specify the value of n for the n largest values\n",
    "n = 3\n",
    "\n",
    "# Use numpy.partition to get the n largest values\n",
    "n_largest = np.partition(arr, -n)[-n:]\n",
    "\n",
    "print(f\"The {n} largest values in the array are: {n_largest}\")"
   ]
  },
  {
   "cell_type": "markdown",
   "id": "b69c1c6b",
   "metadata": {},
   "source": [
    "# 15. How to create a record array from a regular array?"
   ]
  },
  {
   "cell_type": "code",
   "execution_count": 34,
   "id": "f65e27a3",
   "metadata": {},
   "outputs": [
    {
     "name": "stdout",
     "output_type": "stream",
     "text": [
      "Record Array:\n",
      "[(1, 'Krishna', 25) (2, 'Akshu', 18) (3, 'Harshu', 22)]\n",
      "\n",
      "Accessing by Field Name:\n",
      "ID: [1 2 3]\n",
      "Name: ['Krishna' 'Akshu' 'Harshu']\n",
      "Age: [25 18 22]\n"
     ]
    }
   ],
   "source": [
    "import numpy as np\n",
    "\n",
    "# Create a regular NumPy array\n",
    "regular_array = np.array([[1, 'Krishna', 25],\n",
    "                          [2, 'Akshu', 18],\n",
    "                          [3, 'Harshu', 22]])\n",
    "\n",
    "# Define field names for each column\n",
    "dtype = [('ID', int), ('Name', 'U10'), ('Age', int)]\n",
    "\n",
    "# Create a record array using numpy.rec.fromarrays\n",
    "record_array = np.rec.fromarrays(regular_array.T, dtype=dtype)\n",
    "\n",
    "# Access elements by field name\n",
    "print(\"Record Array:\")\n",
    "print(record_array)\n",
    "\n",
    "# Access elements by field name\n",
    "print(\"\\nAccessing by Field Name:\")\n",
    "print(\"ID:\", record_array['ID'])\n",
    "print(\"Name:\", record_array['Name'])\n",
    "print(\"Age:\", record_array['Age'])"
   ]
  },
  {
   "cell_type": "markdown",
   "id": "6c89ff21",
   "metadata": {},
   "source": [
    "# 16.  How to swap two rows of an array?"
   ]
  },
  {
   "cell_type": "code",
   "execution_count": 31,
   "id": "3d407249",
   "metadata": {},
   "outputs": [
    {
     "name": "stdout",
     "output_type": "stream",
     "text": [
      "Array with Rows Swapped:\n",
      "[[7 8 9]\n",
      " [4 5 6]\n",
      " [1 2 3]]\n"
     ]
    }
   ],
   "source": [
    "import numpy as np\n",
    "\n",
    "# Create an example 2D array\n",
    "array = np.array([[1, 2, 3],\n",
    "                  [4, 5, 6],\n",
    "                  [7, 8, 9]])\n",
    "\n",
    "# Define the indices of the rows you want to swap\n",
    "row1_index = 0  # Index of the first row (0-based)\n",
    "row2_index = 2  # Index of the second row (0-based)\n",
    "\n",
    "# Swap the rows\n",
    "array[row1_index], array[row2_index] = array[row2_index].copy(), array[row1_index].copy()\n",
    "\n",
    "print(\"Array with Rows Swapped:\")\n",
    "print(array)"
   ]
  },
  {
   "cell_type": "markdown",
   "id": "41805e50",
   "metadata": {},
   "source": [
    "# 17. Write python code to reshape to the next dimension of numpy array? "
   ]
  },
  {
   "cell_type": "code",
   "execution_count": 32,
   "id": "6de4d7a5",
   "metadata": {},
   "outputs": [
    {
     "data": {
      "text/plain": [
       "array([[ 23,  34, 121],\n",
       "       [ 23,  22,  67],\n",
       "       [686, 434, 123]])"
      ]
     },
     "execution_count": 32,
     "metadata": {},
     "output_type": "execute_result"
    }
   ],
   "source": [
    "x=np.array([[23,34, 121],[23,22,67],[686,434,123]])\n",
    "x"
   ]
  },
  {
   "cell_type": "code",
   "execution_count": 33,
   "id": "a5ba8cce",
   "metadata": {},
   "outputs": [
    {
     "name": "stdout",
     "output_type": "stream",
     "text": [
      "Original Array:\n",
      "[[ 23  34 121]\n",
      " [ 23  22  67]\n",
      " [686 434 123]]\n",
      "\n",
      "Reshaped Array to the Next Dimension:\n",
      "[[ 23  34 121]\n",
      " [ 23  22  67]\n",
      " [686 434 123]]\n"
     ]
    }
   ],
   "source": [
    "import numpy as np\n",
    "\n",
    "# Create the original array\n",
    "x = np.array([[23, 34, 121],\n",
    "              [23, 22, 67],\n",
    "              [686, 434, 123]])\n",
    "\n",
    "# Reshape the array to the next dimension\n",
    "reshaped_array = x.reshape(-1, x.shape[-1])\n",
    "\n",
    "print(\"Original Array:\")\n",
    "print(x)\n",
    "\n",
    "print(\"\\nReshaped Array to the Next Dimension:\")\n",
    "print(reshaped_array)"
   ]
  }
 ],
 "metadata": {
  "kernelspec": {
   "display_name": "Python 3 (ipykernel)",
   "language": "python",
   "name": "python3"
  },
  "language_info": {
   "codemirror_mode": {
    "name": "ipython",
    "version": 3
   },
   "file_extension": ".py",
   "mimetype": "text/x-python",
   "name": "python",
   "nbconvert_exporter": "python",
   "pygments_lexer": "ipython3",
   "version": "3.11.4"
  }
 },
 "nbformat": 4,
 "nbformat_minor": 5
}
