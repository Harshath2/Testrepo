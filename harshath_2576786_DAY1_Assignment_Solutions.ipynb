{
 "cells": [
  {
   "cell_type": "markdown",
   "id": "a2c1d920",
   "metadata": {},
   "source": [
    "# 1. Manipulate using a list.\n",
    "i) To add new elements to the end of the list\n",
    "ii) To reverse elements in the list\n",
    "iii) To dispay the same list of elements multiple times.\n",
    "iv) To concatenate two list\n",
    "v) To sort the elements in the list in ascending order."
   ]
  },
  {
   "cell_type": "code",
   "execution_count": 3,
   "id": "70a87f8e",
   "metadata": {},
   "outputs": [
    {
     "data": {
      "text/plain": [
       "['10,20,30']"
      ]
     },
     "execution_count": 3,
     "metadata": {},
     "output_type": "execute_result"
    }
   ],
   "source": [
    "lst=['10,20,30']\n",
    "lst"
   ]
  },
  {
   "cell_type": "code",
   "execution_count": 4,
   "id": "911e7210",
   "metadata": {},
   "outputs": [
    {
     "name": "stdout",
     "output_type": "stream",
     "text": [
      "After added lists elements are: \n",
      " ['10,20,30', 3, 4, 5, 6]\n"
     ]
    }
   ],
   "source": [
    "#1. To add new elements to the end of the list\n",
    "lst.append(3)\n",
    "lst.extend([4,5,6])\n",
    "print('After added lists elements are: \\n',lst)"
   ]
  },
  {
   "cell_type": "code",
   "execution_count": 5,
   "id": "dcba4424",
   "metadata": {},
   "outputs": [
    {
     "name": "stdout",
     "output_type": "stream",
     "text": [
      "Reversed List: [6, 5, 4, 3, '10,20,30']\n"
     ]
    }
   ],
   "source": [
    "#2. To reverse elements in the list\n",
    "lst.reverse()\n",
    "print('Reversed List:',lst)"
   ]
  },
  {
   "cell_type": "code",
   "execution_count": 7,
   "id": "823c1f35",
   "metadata": {
    "scrolled": true
   },
   "outputs": [
    {
     "name": "stdout",
     "output_type": "stream",
     "text": [
      "[6, 5, 4, 3, '10,20,30', 6, 5, 4, 3, '10,20,30', 6, 5, 4, 3, '10,20,30']\n"
     ]
    }
   ],
   "source": [
    "#3. To display the same list of elements multiple times\n",
    "lst=lst*3\n",
    "print(lst)"
   ]
  },
  {
   "cell_type": "code",
   "execution_count": 10,
   "id": "97dac689",
   "metadata": {},
   "outputs": [
    {
     "name": "stdout",
     "output_type": "stream",
     "text": [
      "[1, 2, 3, 4, 5, 6, 7, 8]\n"
     ]
    }
   ],
   "source": [
    "#4. To concatenate two list\n",
    "list1 = [1,2,3,4]\n",
    "list2 = [5,6,7,8]\n",
    "concatenated_list = list1 + list2\n",
    "print(concatenated_list)"
   ]
  },
  {
   "cell_type": "code",
   "execution_count": 11,
   "id": "c38d0b9d",
   "metadata": {},
   "outputs": [
    {
     "data": {
      "text/plain": [
       "[1, 9, 35, 50]"
      ]
     },
     "execution_count": 11,
     "metadata": {},
     "output_type": "execute_result"
    }
   ],
   "source": [
    "#5. To sort the elements in the list in ascending order\n",
    "lst=[35,50,1,9]\n",
    "lst.sort()\n",
    "lst"
   ]
  },
  {
   "cell_type": "markdown",
   "id": "7eafe3fc",
   "metadata": {},
   "source": [
    "# 2. Write a Python program to do in the tuples.\n",
    "i) Manipulate using tuples\n",
    "ii) To add new elements to the end of the tuples\n",
    "iii) To reverse elements in the list\n",
    "iv) To display the elements of the same tuple multiple times.\n",
    "v) To concatenate two tuples\n",
    "vi) To sort the elements in the list in ascending order"
   ]
  },
  {
   "cell_type": "code",
   "execution_count": 12,
   "id": "14715429",
   "metadata": {},
   "outputs": [
    {
     "name": "stdout",
     "output_type": "stream",
     "text": [
      "(1, 2, 3, 4)\n"
     ]
    }
   ],
   "source": [
    "tuple=(1,2,3,4)\n",
    "print(tuple)"
   ]
  },
  {
   "cell_type": "code",
   "execution_count": 13,
   "id": "49c78691",
   "metadata": {},
   "outputs": [
    {
     "data": {
      "text/plain": [
       "(1, 2, 3, 4)"
      ]
     },
     "execution_count": 13,
     "metadata": {},
     "output_type": "execute_result"
    }
   ],
   "source": [
    "#1.Manipulate using tuples\n",
    "tuple=(1,2,3,4)\n",
    "tuple"
   ]
  },
  {
   "cell_type": "code",
   "execution_count": 14,
   "id": "130301e4",
   "metadata": {},
   "outputs": [
    {
     "name": "stdout",
     "output_type": "stream",
     "text": [
      "(1, 2, 3, 11, 12)\n"
     ]
    }
   ],
   "source": [
    "#2. To add new elements to the end of the tuples\n",
    "tuple1=(1,2,3)\n",
    "tuple2=(11,12)\n",
    "result=tuple1+tuple2\n",
    "print(result)"
   ]
  },
  {
   "cell_type": "code",
   "execution_count": 17,
   "id": "c60b7e75",
   "metadata": {},
   "outputs": [
    {
     "name": "stdout",
     "output_type": "stream",
     "text": [
      "original_tuple: (1, 2, 3, 4)\n",
      "reversed_tuple: (4, 3, 2, 1)\n"
     ]
    }
   ],
   "source": [
    "#3. To reverse elements in the list\n",
    "my_tuple= (1,2,3,4)\n",
    "reversed_tuple=my_tuple[::-1]\n",
    "print('original_tuple:',my_tuple)\n",
    "print('reversed_tuple:',reversed_tuple)"
   ]
  },
  {
   "cell_type": "code",
   "execution_count": 18,
   "id": "9a1a78de",
   "metadata": {},
   "outputs": [
    {
     "name": "stdout",
     "output_type": "stream",
     "text": [
      "(1, 2, 3, 4, 1, 2, 3, 4, 1, 2, 3, 4)\n"
     ]
    }
   ],
   "source": [
    "#4. To display the elements of the same tuple multiple times\n",
    "tuple=tuple*3\n",
    "tuple*4\n",
    "print(tuple)"
   ]
  },
  {
   "cell_type": "code",
   "execution_count": 19,
   "id": "43811c6c",
   "metadata": {},
   "outputs": [
    {
     "data": {
      "text/plain": [
       "(1, 2, 3, 3, 4)"
      ]
     },
     "execution_count": 19,
     "metadata": {},
     "output_type": "execute_result"
    }
   ],
   "source": [
    "#5. To concatenate two tuples\n",
    "t1=(1,2,3)\n",
    "t2=(3,4)\n",
    "t3=t1+t2\n",
    "t3"
   ]
  },
  {
   "cell_type": "code",
   "execution_count": 22,
   "id": "b1fda686",
   "metadata": {},
   "outputs": [
    {
     "name": "stdout",
     "output_type": "stream",
     "text": [
      "[2, 6, 9, 11]\n"
     ]
    }
   ],
   "source": [
    "#6. To sort the elements in the list in ascending order\n",
    "tuple=(11,6,2,9)\n",
    "tuple1=sorted(tuple)\n",
    "print(tuple1)\n"
   ]
  },
  {
   "cell_type": "markdown",
   "id": "8f82e59a",
   "metadata": {},
   "source": [
    "# 3. Write a python program to implement the following using list\n",
    "i) Create a list with integers(minimum 10 numbers)\n",
    "ii) How to display the last number in the list\n",
    "iii) Command for displaying the values from the list[0:4]\n",
    "iv) Command for displaying the values from the list[2:]\n",
    "v) Command for displaying the values from the list[:6]"
   ]
  },
  {
   "cell_type": "code",
   "execution_count": 24,
   "id": "06a4a983",
   "metadata": {},
   "outputs": [
    {
     "data": {
      "text/plain": [
       "[1, 2, 3, 4, 5, 6, 7, 8, 9, 10]"
      ]
     },
     "execution_count": 24,
     "metadata": {},
     "output_type": "execute_result"
    }
   ],
   "source": [
    "#1. Create a list with integers(minimum 10 numbers)\n",
    "lst=[1,2,3,4,5,6,7,8,9,10]\n",
    "lst"
   ]
  },
  {
   "cell_type": "code",
   "execution_count": 25,
   "id": "f8c9389c",
   "metadata": {},
   "outputs": [
    {
     "name": "stdout",
     "output_type": "stream",
     "text": [
      "The last number in the list is: 10\n"
     ]
    }
   ],
   "source": [
    "#2. How to display the last number in the list\n",
    "last_number=lst[-1]\n",
    "print('The last number in the list is:',last_number)"
   ]
  },
  {
   "cell_type": "code",
   "execution_count": 26,
   "id": "cfaf67c8",
   "metadata": {},
   "outputs": [
    {
     "name": "stdout",
     "output_type": "stream",
     "text": [
      "[1, 2, 3, 4]\n"
     ]
    }
   ],
   "source": [
    "#3. Command for displaying the values from the list[0:4]\n",
    "values_from_0_to_3=lst[0:4]\n",
    "print(values_from_0_to_3)"
   ]
  },
  {
   "cell_type": "code",
   "execution_count": 27,
   "id": "1355bc12",
   "metadata": {},
   "outputs": [
    {
     "name": "stdout",
     "output_type": "stream",
     "text": [
      "[3, 4, 5, 6, 7, 8, 9, 10]\n"
     ]
    }
   ],
   "source": [
    "#4. Command for displaying the values from the list[2:]\n",
    "values_from_index_2_to_end=lst[2:]\n",
    "print(values_from_index_2_to_end)\n"
   ]
  },
  {
   "cell_type": "code",
   "execution_count": 28,
   "id": "468ae26a",
   "metadata": {},
   "outputs": [
    {
     "name": "stdout",
     "output_type": "stream",
     "text": [
      "[1, 2, 3, 4, 5, 6]\n"
     ]
    }
   ],
   "source": [
    "#5. Command for displaying the values from the list[:6]\n",
    "values_from_beginning_to_5=lst[:6]\n",
    "print(values_from_beginning_to_5)"
   ]
  },
  {
   "cell_type": "markdown",
   "id": "261ef6a6",
   "metadata": {},
   "source": [
    "# 4. Write a python program:Tuple1=(10,50,20,40,30)\n",
    "i) To display the elements 10 and 50 from tuple1\n",
    "ii) To display the length of a tuple1\n",
    "iii) To find the minimum elements from tuple1\n",
    "iv) To add all elements in the tuple1\n",
    "v) To display the same tuple1 multiple times"
   ]
  },
  {
   "cell_type": "code",
   "execution_count": 29,
   "id": "9edca382",
   "metadata": {},
   "outputs": [
    {
     "name": "stdout",
     "output_type": "stream",
     "text": [
      "element 10: 10\n",
      "element 50: 20\n"
     ]
    }
   ],
   "source": [
    "#1. To display the elements 10 and 50 from tuple1\n",
    "tuple1=(10,20,30,40,50)\n",
    "element_10=tuple1[0]\n",
    "element_50=tuple1[1]\n",
    "print('element 10:',element_10)\n",
    "print('element 50:',element_50)"
   ]
  },
  {
   "cell_type": "code",
   "execution_count": 30,
   "id": "0cef6c6f",
   "metadata": {},
   "outputs": [
    {
     "name": "stdout",
     "output_type": "stream",
     "text": [
      "5\n"
     ]
    }
   ],
   "source": [
    "#2. To display the length of a tuple1\n",
    "length_of_tuple1=len(tuple1)\n",
    "print(length_of_tuple1)"
   ]
  },
  {
   "cell_type": "code",
   "execution_count": 31,
   "id": "faf54401",
   "metadata": {},
   "outputs": [
    {
     "name": "stdout",
     "output_type": "stream",
     "text": [
      "10\n"
     ]
    }
   ],
   "source": [
    "#3. To find the minimum elements from tuple1\n",
    "minimum_element=min(tuple1)\n",
    "print(minimum_element)"
   ]
  },
  {
   "cell_type": "code",
   "execution_count": 32,
   "id": "2918b62a",
   "metadata": {},
   "outputs": [
    {
     "name": "stdout",
     "output_type": "stream",
     "text": [
      "sum of all elements in tuple1: 150\n"
     ]
    }
   ],
   "source": [
    "#4. To add all the elements in tuple1\n",
    "total=sum(tuple1)\n",
    "print('sum of all elements in tuple1:',total)"
   ]
  },
  {
   "cell_type": "code",
   "execution_count": 33,
   "id": "80271c93",
   "metadata": {},
   "outputs": [
    {
     "name": "stdout",
     "output_type": "stream",
     "text": [
      "result: (10, 20, 30, 40, 50, 10, 20, 30, 40, 50)\n"
     ]
    }
   ],
   "source": [
    "#5. To display the same tuple1 multiple times\n",
    "result=tuple1*2\n",
    "print('result:',result)"
   ]
  },
  {
   "cell_type": "markdown",
   "id": "32322a94",
   "metadata": {},
   "source": [
    "# 5. Write a python program:\n",
    "i) To calculate the length of a string\n",
    "ii) To reverse words in a string\n",
    "iii) To display the same string multiple times\n",
    "iv) To concatenate two strings\n",
    "v) Str1=\"South India\",using string slicing to display \"India\""
   ]
  },
  {
   "cell_type": "code",
   "execution_count": 34,
   "id": "c7b9081c",
   "metadata": {},
   "outputs": [
    {
     "name": "stdout",
     "output_type": "stream",
     "text": [
      "5\n"
     ]
    }
   ],
   "source": [
    "#1. To calculate the length of a string\n",
    "str=\"Hello\"\n",
    "len_of_string=len(str)\n",
    "print(len_of_string)"
   ]
  },
  {
   "cell_type": "code",
   "execution_count": 35,
   "id": "cdba8ad7",
   "metadata": {},
   "outputs": [
    {
     "name": "stdout",
     "output_type": "stream",
     "text": [
      "reversed_string: PYTHON HELLO\n"
     ]
    }
   ],
   "source": [
    "#2. To reverse words in a string\n",
    "string= \"HELLO PYTHON\"\n",
    "words=string.split()\n",
    "reversed_words=words[::-1]\n",
    "reversed_string=' '.join(reversed_words)\n",
    "print(\"reversed_string:\",reversed_string)"
   ]
  },
  {
   "cell_type": "code",
   "execution_count": 36,
   "id": "e33bf991",
   "metadata": {},
   "outputs": [
    {
     "name": "stdout",
     "output_type": "stream",
     "text": [
      "HELLO PYTHONHELLO PYTHONHELLO PYTHONHELLO PYTHON\n"
     ]
    }
   ],
   "source": [
    "#3. To display the same string multiple times\n",
    "print(string*4)"
   ]
  },
  {
   "cell_type": "code",
   "execution_count": 37,
   "id": "b2f03243",
   "metadata": {},
   "outputs": [
    {
     "name": "stdout",
     "output_type": "stream",
     "text": [
      "HelloPython\n"
     ]
    }
   ],
   "source": [
    "#4. To concatenate two strings\n",
    "s1='Hello'\n",
    "s2='Python'\n",
    "s3=s1+s2\n",
    "print(s3)"
   ]
  },
  {
   "cell_type": "code",
   "execution_count": 38,
   "id": "1ae69ac1",
   "metadata": {},
   "outputs": [
    {
     "name": "stdout",
     "output_type": "stream",
     "text": [
      " India\n"
     ]
    }
   ],
   "source": [
    "#5. Str1=\"South India\",using string slicing to display \"India\"\n",
    "V=\"South India\"\n",
    "print(V[5:])"
   ]
  },
  {
   "cell_type": "markdown",
   "id": "4feb33f2",
   "metadata": {},
   "source": [
    "# 6.Perform the following:\n",
    "\n",
    "i) Creating the dictionary.\n",
    "ii) Accessing values and keys in the Dictionary.\n",
    "iii) Updating the dictionary using a function.\n",
    "iv) Clear and delete the dictionary values"
   ]
  },
  {
   "cell_type": "code",
   "execution_count": 39,
   "id": "5852d09c",
   "metadata": {},
   "outputs": [
    {
     "name": "stdout",
     "output_type": "stream",
     "text": [
      "{'name': 'mahesh', 'age': '26', 'grade': 'A+'}\n"
     ]
    }
   ],
   "source": [
    "#1. Creating the dictionary\n",
    "student={'name':'mahesh','age':'26','grade':'A+'}\n",
    "print(student)\n"
   ]
  },
  {
   "cell_type": "code",
   "execution_count": 41,
   "id": "aab4a208",
   "metadata": {},
   "outputs": [
    {
     "name": "stdout",
     "output_type": "stream",
     "text": [
      "26\n"
     ]
    }
   ],
   "source": [
    "#2. Accessing values and keys in the Dictionary\n",
    "student={'name':'mahesh','age':'26','grade':'A+'}\n",
    "age=student['age']\n",
    "print(age)"
   ]
  },
  {
   "cell_type": "code",
   "execution_count": 42,
   "id": "68f6fe00",
   "metadata": {},
   "outputs": [
    {
     "name": "stdout",
     "output_type": "stream",
     "text": [
      "{'name': 'mahesh', 'age': '26'}\n"
     ]
    }
   ],
   "source": [
    "#3. Updating the dictionary using a function. \n",
    "student={'name':'mahesh','age':'26'}\n",
    "student.update(student)\n",
    "print(student)"
   ]
  },
  {
   "cell_type": "code",
   "execution_count": 43,
   "id": "940864b8",
   "metadata": {},
   "outputs": [
    {
     "name": "stdout",
     "output_type": "stream",
     "text": [
      "{'name': 'mahesh'}\n",
      "{}\n"
     ]
    }
   ],
   "source": [
    "#4. Clear and delete the dictionary values\n",
    "del student['age']\n",
    "print(student)\n",
    "student.clear()\n",
    "print(student)"
   ]
  },
  {
   "cell_type": "markdown",
   "id": "1d33b6a9",
   "metadata": {},
   "source": [
    "# 7. Python Program to insert a number to any position in a list"
   ]
  },
  {
   "cell_type": "code",
   "execution_count": 48,
   "id": "111bd4a1",
   "metadata": {},
   "outputs": [
    {
     "name": "stdout",
     "output_type": "stream",
     "text": [
      "[1, 2, 3, 4, 5, 6]\n"
     ]
    }
   ],
   "source": [
    "lst=[1,2,3,4,6]\n",
    "num_to_insert=5\n",
    "position=4\n",
    "lst.insert(position,num_to_insert)\n",
    "print(lst)"
   ]
  },
  {
   "cell_type": "markdown",
   "id": "88f11d54",
   "metadata": {},
   "source": [
    "# 8. Python program to delete an element from a list by index"
   ]
  },
  {
   "cell_type": "code",
   "execution_count": 59,
   "id": "5d2fbdc0",
   "metadata": {},
   "outputs": [
    {
     "name": "stdout",
     "output_type": "stream",
     "text": [
      "[1, 2, 3, 4, 5]\n"
     ]
    }
   ],
   "source": [
    "lst=[1,2,3,4,5,6]\n",
    "index_to_delete=5\n",
    "lst.pop(index_to_delete)\n",
    "print(lst)\n"
   ]
  },
  {
   "cell_type": "markdown",
   "id": "fec17b32",
   "metadata": {},
   "source": [
    "# 9. Write a program to display a number from 1 to 100"
   ]
  },
  {
   "cell_type": "code",
   "execution_count": 73,
   "id": "6a458cc8",
   "metadata": {},
   "outputs": [
    {
     "name": "stdout",
     "output_type": "stream",
     "text": [
      "1\n",
      "2\n",
      "3\n",
      "4\n",
      "5\n",
      "6\n",
      "7\n",
      "8\n",
      "9\n",
      "10\n",
      "11\n",
      "12\n",
      "13\n",
      "14\n",
      "15\n",
      "16\n",
      "17\n",
      "18\n",
      "19\n",
      "20\n",
      "21\n",
      "22\n",
      "23\n",
      "24\n",
      "25\n",
      "26\n",
      "27\n",
      "28\n",
      "29\n",
      "30\n",
      "31\n",
      "32\n",
      "33\n",
      "34\n",
      "35\n",
      "36\n",
      "37\n",
      "38\n",
      "39\n",
      "40\n",
      "41\n",
      "42\n",
      "43\n",
      "44\n",
      "45\n",
      "46\n",
      "47\n",
      "48\n",
      "49\n",
      "50\n",
      "51\n",
      "52\n",
      "53\n",
      "54\n",
      "55\n",
      "56\n",
      "57\n",
      "58\n",
      "59\n",
      "60\n",
      "61\n",
      "62\n",
      "63\n",
      "64\n",
      "65\n",
      "66\n",
      "67\n",
      "68\n",
      "69\n",
      "70\n",
      "71\n",
      "72\n",
      "73\n",
      "74\n",
      "75\n",
      "76\n",
      "77\n",
      "78\n",
      "79\n",
      "80\n",
      "81\n",
      "82\n",
      "83\n",
      "84\n",
      "85\n",
      "86\n",
      "87\n",
      "88\n",
      "89\n",
      "90\n",
      "91\n",
      "92\n",
      "93\n",
      "94\n",
      "95\n",
      "96\n",
      "97\n",
      "98\n",
      "99\n",
      "100\n"
     ]
    }
   ],
   "source": [
    "for n in range(1,101):\n",
    " print (n)"
   ]
  },
  {
   "cell_type": "markdown",
   "id": "0df28b64",
   "metadata": {},
   "source": [
    "# 10. Write a Python program to find the sum of all items in a tuple"
   ]
  },
  {
   "cell_type": "code",
   "execution_count": 76,
   "id": "d7460c9b",
   "metadata": {},
   "outputs": [
    {
     "name": "stdout",
     "output_type": "stream",
     "text": [
      "sum of items in the tuple: 10\n"
     ]
    }
   ],
   "source": [
    "my_tuple=(1,2,3,4)\n",
    "result=sum(my_tuple)\n",
    "print(\"sum of items in the tuple:\", result)"
   ]
  },
  {
   "cell_type": "markdown",
   "id": "5d95bf9f",
   "metadata": {},
   "source": [
    "# 11. Create a dictionary containing three lambda functions square,cube and square root\n"
   ]
  },
  {
   "cell_type": "code",
   "execution_count": 6,
   "id": "0691cfc5",
   "metadata": {},
   "outputs": [
    {
     "name": "stdout",
     "output_type": "stream",
     "text": [
      "square: 216\n",
      "Cube: 36\n",
      "Square Root: 2.930156051583521\n"
     ]
    }
   ],
   "source": [
    "math_operations = {\n",
    "'square': lambda x: x**3,\n",
    "'cube': lambda x: x**2,\n",
    "'square_root': lambda x: x**0.6\n",
    "}\n",
    "number=6\n",
    "print(\"square:\", math_operations['square'] (number))\n",
    "print(\"Cube:\", math_operations['cube'](number))\n",
    "print(\"Square Root:\", math_operations['square_root'](number))"
   ]
  },
  {
   "cell_type": "markdown",
   "id": "95d53f00",
   "metadata": {},
   "source": [
    "# 12. A list of words is given. Find the words from the list that have their second character in uppercase"
   ]
  },
  {
   "cell_type": "code",
   "execution_count": 11,
   "id": "a84f3bc7",
   "metadata": {},
   "outputs": [
    {
     "name": "stdout",
     "output_type": "stream",
     "text": [
      "['hey', 'Man', 'hOw', 'ARe', 'You']\n",
      "['hOw', 'ARe']\n"
     ]
    }
   ],
   "source": [
    "ls = [\"hey\", \"Man\", \"hOw\", \"ARe\", \"You\"]\n",
    "res = []\n",
    "for i in ls:\n",
    "  if i[1].isupper():\n",
    "    res.append(i)\n",
    "    \n",
    "print(ls)\n",
    "print(res)"
   ]
  },
  {
   "cell_type": "markdown",
   "id": "5c57a431",
   "metadata": {},
   "source": [
    "# 13. A dictionary of names and  their weights on earth is given.Find how much they will weigh on the moon.(Use map and lambda function) Formula : wMoon = (wEarth * GMoon)/GEarth"
   ]
  },
  {
   "cell_type": "code",
   "execution_count": 15,
   "id": "ea375251",
   "metadata": {},
   "outputs": [
    {
     "name": "stdout",
     "output_type": "stream",
     "text": [
      "mahesh : 4.30 kg\n",
      "kiara : 3.80 kg\n",
      "akshaya : 2.98 kg\n"
     ]
    }
   ],
   "source": [
    "gmoon=1.622\n",
    "gearth=9.81 \n",
    "weightonearth={'mahesh':26,'kiara':23,'akshaya':18} \n",
    "moon_weight={name:(weight*gmoon)/gearth for name,weight in weightonearth.items()} \n",
    "for name,weight_moon in moon_weight.items(): \n",
    "    print(f\"{name} : {weight_moon:.2f} kg\")"
   ]
  },
  {
   "cell_type": "markdown",
   "id": "188f8fd2",
   "metadata": {},
   "source": [
    "# CONTROL STRUCTURES"
   ]
  },
  {
   "cell_type": "markdown",
   "id": "9e19ef88",
   "metadata": {},
   "source": [
    "# 1. Write a python program to find N Prime numbers."
   ]
  },
  {
   "cell_type": "code",
   "execution_count": 7,
   "id": "d5f51bc9",
   "metadata": {},
   "outputs": [
    {
     "name": "stdout",
     "output_type": "stream",
     "text": [
      "The first 30 prime numbers are:[2, 3, 5, 7, 11, 13, 17, 19, 23, 29, 31, 37, 41, 43, 47, 53, 59, 61, 67, 71, 73, 79, 83, 89, 97, 101, 103, 107, 109, 113]\n"
     ]
    }
   ],
   "source": [
    "def is_prime(num):\n",
    "    if num <= 1:\n",
    "        return False\n",
    "    if num <= 3:\n",
    "        return True\n",
    "    if num % 2 == 0 or num % 3 == 0:\n",
    "        return False\n",
    "    i = 5\n",
    "    while i * i <= num:\n",
    "         if num % i == 0 or num % (i + 2) == 0:\n",
    "            return False\n",
    "         i += 6\n",
    "    return True\n",
    "\n",
    "def find_primes(N):\n",
    "    primes = []\n",
    "    num = 2\n",
    "    while len(primes) < N:\n",
    "              if is_prime(num):\n",
    "                primes.append(num)\n",
    "              num += 1\n",
    "    return primes\n",
    "\n",
    "N = 30\n",
    "prime_list = find_primes(N)\n",
    "print(f\"The first {N} prime numbers are:{prime_list}\")"
   ]
  },
  {
   "cell_type": "markdown",
   "id": "5164a883",
   "metadata": {},
   "source": [
    "# 2. Write the python code that calculates the salary of an employee. Prompt the user to enter the Basic Salary,HRA,TA and DA. Add these components to caluculate the Gross Salary. Also, deduct 10% of salary from the Gross Salary to be paid as tax and display gross minus tax as net salary."
   ]
  },
  {
   "cell_type": "code",
   "execution_count": 9,
   "id": "1f4d7961",
   "metadata": {},
   "outputs": [
    {
     "name": "stdout",
     "output_type": "stream",
     "text": [
      "Enter the Base Salary50000\n",
      "Enter the HRA23000\n",
      "Enter the TA8000\n",
      "Enter the DA5\n",
      "The net salary of an employee is after 5000.0 tax deduction is: 81005.0\n"
     ]
    }
   ],
   "source": [
    "Basic_sal = float(input(\"Enter the Base Salary\"))\n",
    "HRA = int(input(\"Enter the HRA\"))\n",
    "TA = int(input(\"Enter the TA\")) \n",
    "DA = int(input(\"Enter the DA\"))\n",
    "\n",
    "Gross_salary = Basic_sal+ float(HRA) + float(TA) + float(DA)\n",
    "\n",
    "net_salary = Gross_salary - (float(Basic_sal)*0.1)\n",
    "\n",
    "print(\"The net salary of an employee is after \" + str(float (Basic_sal)*0.1)+\" tax deduction is: \"+str(Gross_salary))"
   ]
  },
  {
   "cell_type": "markdown",
   "id": "ca8266b1",
   "metadata": {},
   "source": [
    "# 3. Write a python program to search for a string in the given list."
   ]
  },
  {
   "cell_type": "code",
   "execution_count": 10,
   "id": "8718a805",
   "metadata": {},
   "outputs": [
    {
     "name": "stdout",
     "output_type": "stream",
     "text": [
      "lion\n"
     ]
    }
   ],
   "source": [
    "m = [\"32\", \"26\", \"leela\", \"lion\"]\n",
    "s = \"lion\"\n",
    "if s in m:\n",
    "    print(f\"{s}\")\n",
    "else:\n",
    "    print(f\"{s}\")"
   ]
  },
  {
   "cell_type": "markdown",
   "id": "da84f2b4",
   "metadata": {},
   "source": [
    "# 4. Write a python function that accepts a string and calculate the number of uppercase letters and lowercase letters"
   ]
  },
  {
   "cell_type": "code",
   "execution_count": 16,
   "id": "bddd166c",
   "metadata": {},
   "outputs": [
    {
     "name": "stdout",
     "output_type": "stream",
     "text": [
      "Uppercase letters: 0\n",
      "Lowercase letters: 6\n"
     ]
    }
   ],
   "source": [
    "def count_upper_lower(n):\n",
    "    upper_count = 0\n",
    "    lower_count = 0\n",
    "    \n",
    "    for char in n:\n",
    "        if char.isupper():\n",
    "            upper_count += 1\n",
    "        elif char.islower():\n",
    "            lower_count+= 1\n",
    "    return upper_count, lower_count\n",
    "input_string = \"python\"\n",
    "upper,lower = count_upper_lower(input_string)\n",
    "print(\"Uppercase letters:\",upper)\n",
    "print(\"Lowercase letters:\",lower)"
   ]
  },
  {
   "cell_type": "markdown",
   "id": "75cc0c64",
   "metadata": {},
   "source": [
    "# 5. Write a program to display the sum of odd numbers and even numbers that fall between 12 and 37"
   ]
  },
  {
   "cell_type": "code",
   "execution_count": 72,
   "id": "4ffef91d",
   "metadata": {},
   "outputs": [
    {
     "name": "stdout",
     "output_type": "stream",
     "text": [
      "Sum of odd numbers: 288\n",
      "Sum of even numbers: 312\n"
     ]
    }
   ],
   "source": [
    "odd_sum = 0\n",
    "even_sum = 0\n",
    "\n",
    "for number in range(12, 37):\n",
    "    if number % 2 == 0: \n",
    "        even_sum += number\n",
    "    else:\n",
    "        odd_sum += number\n",
    "\n",
    "print(\"Sum of odd numbers:\", odd_sum)\n",
    "print(\"Sum of even numbers:\", even_sum)"
   ]
  },
  {
   "cell_type": "markdown",
   "id": "4d00ea11",
   "metadata": {},
   "source": [
    "# 6. Write a python program to print the table of any number"
   ]
  },
  {
   "cell_type": "code",
   "execution_count": 23,
   "id": "f0964c3d",
   "metadata": {},
   "outputs": [
    {
     "name": "stdout",
     "output_type": "stream",
     "text": [
      "table of 8:\n",
      "8*1=8\n",
      "8*2=16\n",
      "8*3=24\n",
      "8*4=32\n",
      "8*5=40\n",
      "8*6=48\n",
      "8*7=56\n",
      "8*8=64\n",
      "8*9=72\n",
      "8*10=80\n"
     ]
    }
   ],
   "source": [
    "num=8\n",
    "print(f\"table of {8}:\")\n",
    "for i in range(1,11):\n",
    "    print(f\"{num}*{i}={num*i}\")"
   ]
  },
  {
   "cell_type": "markdown",
   "id": "fa53b293",
   "metadata": {},
   "source": [
    "# 7. Write a python program to sum the first 10 prime numbers"
   ]
  },
  {
   "cell_type": "code",
   "execution_count": 52,
   "id": "f6008c79",
   "metadata": {},
   "outputs": [
    {
     "name": "stdout",
     "output_type": "stream",
     "text": [
      "The sum of the first 10 prime numbers is: 129\n"
     ]
    }
   ],
   "source": [
    "def is_prime(num):\n",
    "    if num <= 1:\n",
    "        return False\n",
    "    if num == 2:\n",
    "        return True\n",
    "    if num % 2 == 0:\n",
    "        return False\n",
    "    for i in range(3, int(num ** 0.5) + 1, 2):\n",
    "        if num % i == 0:\n",
    "            return False\n",
    "    return True\n",
    "\n",
    "def sum_first_10_primes():\n",
    "    primes = []\n",
    "    num = 2\n",
    "    while len(primes) < 10:\n",
    "        if is_prime(num):\n",
    "            primes.append(num)\n",
    "        num += 1\n",
    "    return sum(primes)\n",
    "\n",
    "result = sum_first_10_primes()\n",
    "print(\"The sum of the first 10 prime numbers is:\",result)"
   ]
  },
  {
   "cell_type": "markdown",
   "id": "553c1ebb",
   "metadata": {},
   "source": [
    "# 8. Write a python program to implement arthmetic operations using nested if statement"
   ]
  },
  {
   "cell_type": "code",
   "execution_count": 53,
   "id": "44252ad3",
   "metadata": {},
   "outputs": [
    {
     "name": "stdout",
     "output_type": "stream",
     "text": [
      "Enter an arithmetic operator (+, -, *, /): +\n",
      "Enter the first number: 6\n",
      "Enter the second number: 2\n",
      "Result: 8.0\n"
     ]
    }
   ],
   "source": [
    "def perform_arithmetic_operation(operator, num1, num2):\n",
    "    if operator == '+':\n",
    "        result = num1 + num2\n",
    "    elif operator == '-':\n",
    "        result = num1 - num2\n",
    "    elif operator == '*':\n",
    "        result = num1 * num2\n",
    "    elif operator == '/':\n",
    "        if num2 != 0:\n",
    "            result = num1 / num2\n",
    "        else:\n",
    "            result = \"Division by zero is not allowed\"\n",
    "    else:\n",
    "        result = \"Invalid operator\"\n",
    "\n",
    "    return result\n",
    "operator = input(\"Enter an arithmetic operator (+, -, *, /): \")\n",
    "num1 = float(input(\"Enter the first number: \"))\n",
    "num2 = float(input(\"Enter the second number: \"))\n",
    "result = perform_arithmetic_operation(operator, num1, num2)\n",
    "print(f\"Result: {result}\")"
   ]
  },
  {
   "cell_type": "markdown",
   "id": "937ea0ab",
   "metadata": {},
   "source": [
    "# 9. Write a python program to take the temperature in celsius and convert it to a Fahrenheit"
   ]
  },
  {
   "cell_type": "code",
   "execution_count": 54,
   "id": "e4ac743f",
   "metadata": {},
   "outputs": [
    {
     "name": "stdout",
     "output_type": "stream",
     "text": [
      "Enter temperature in Celsius: 97\n",
      "97.0 degrees Celsius is equal to 206.6 degrees Fahrenheit\n"
     ]
    }
   ],
   "source": [
    "def celsius_to_fahrenheit(celsius):\n",
    "    fahrenheit = (celsius * 9/5) + 32\n",
    "    return fahrenheit\n",
    "celsius = float(input(\"Enter temperature in Celsius: \"))\n",
    "fahrenheit = celsius_to_fahrenheit(celsius)\n",
    "print(f\"{celsius} degrees Celsius is equal to {fahrenheit} degrees Fahrenheit\")\n"
   ]
  },
  {
   "cell_type": "markdown",
   "id": "1a885bcb",
   "metadata": {},
   "source": [
    "# 10. Write a python program to find a maximum and minimum number in a list without using an inbuilt function"
   ]
  },
  {
   "cell_type": "code",
   "execution_count": 55,
   "id": "d70e1d69",
   "metadata": {},
   "outputs": [
    {
     "name": "stdout",
     "output_type": "stream",
     "text": [
      "Maximum: 9\n",
      "Minimum: 1\n"
     ]
    }
   ],
   "source": [
    "my_list = [3, 1, 9, 5, 7, 2, 8, 4]\n",
    "maximum = my_list[0]\n",
    "minimum = my_list[0]\n",
    "for num in my_list:\n",
    "    if num > maximum:\n",
    "        maximum = num\n",
    "    if num < minimum:\n",
    "        minimum = num\n",
    "\n",
    "print(\"Maximum:\", maximum)\n",
    "print(\"Minimum:\", minimum)"
   ]
  },
  {
   "cell_type": "markdown",
   "id": "77f8e0cb",
   "metadata": {},
   "source": [
    "# 11. Write a program in python to print out the number of seconds in 30-day month 30days, 24 hours in a day, 60 minutes per day, 60 seconds in a minute"
   ]
  },
  {
   "cell_type": "code",
   "execution_count": 56,
   "id": "1ab0eb58",
   "metadata": {},
   "outputs": [
    {
     "name": "stdout",
     "output_type": "stream",
     "text": [
      "Number of seconds in a 30-day month: 2592000\n"
     ]
    }
   ],
   "source": [
    "days_in_month = 30\n",
    "hours_in_day = 24\n",
    "minutes_in_hour = 60\n",
    "seconds_in_minute = 60\n",
    "total_seconds = days_in_month * hours_in_day * minutes_in_hour * seconds_in_minute\n",
    "print(\"Number of seconds in a 30-day month:\", total_seconds)"
   ]
  },
  {
   "cell_type": "markdown",
   "id": "77878f8e",
   "metadata": {},
   "source": [
    "# 12. Write a program in python to print out the number of seconds in a year"
   ]
  },
  {
   "cell_type": "code",
   "execution_count": 59,
   "id": "a14268fd",
   "metadata": {},
   "outputs": [
    {
     "name": "stdout",
     "output_type": "stream",
     "text": [
      "Number of seconds in a year : 31536000\n"
     ]
    }
   ],
   "source": [
    "seconds_per_minute = 60\n",
    "seconds_per_hour = 60 * seconds_per_minute\n",
    "seconds_per_day = 24 * seconds_per_hour\n",
    "days_in_year = 365\n",
    "\n",
    "seconds_in_year = days_in_year * seconds_per_day\n",
    "\n",
    "print(\"Number of seconds in a year :\", seconds_in_year)"
   ]
  },
  {
   "cell_type": "markdown",
   "id": "b03c20b0",
   "metadata": {},
   "source": [
    "# 13. A high-speed train can travel at an average speed of 150 mph, how long will it take a train travelling at this speed to travel from London to Glasgow which is 414 miles away?"
   ]
  },
  {
   "cell_type": "code",
   "execution_count": 60,
   "id": "66d1e5d5",
   "metadata": {},
   "outputs": [
    {
     "name": "stdout",
     "output_type": "stream",
     "text": [
      "It will take approximately 2.76 hours to travel from London to Glasgow.\n"
     ]
    }
   ],
   "source": [
    "def travel_time(distance, speed):\n",
    "    time = distance / speed\n",
    "    return time\n",
    "\n",
    "distance = 414  \n",
    "speed = 150  \n",
    "\n",
    "time_taken = travel_time(distance, speed)\n",
    "\n",
    "print(f\"It will take approximately {time_taken:.2f} hours to travel from London to Glasgow.\")"
   ]
  },
  {
   "cell_type": "markdown",
   "id": "9868aca0",
   "metadata": {},
   "source": [
    "# 14. Write a python program that defines a variable called days_in_each_school_year and assign 192 to the variable. The program should then print out the total hours that you spend in school from year 7 to year 11, if each day you spend 6 hours in school days_in_each_school_year = 192"
   ]
  },
  {
   "cell_type": "code",
   "execution_count": 61,
   "id": "5e70b4ec",
   "metadata": {},
   "outputs": [
    {
     "name": "stdout",
     "output_type": "stream",
     "text": [
      "Total hours spent in school from year 7 to year 11: 5760\n"
     ]
    }
   ],
   "source": [
    "days_in_each_school_year = 192\n",
    "\n",
    "start_year = 7\n",
    "end_year = 11\n",
    "\n",
    "hours_per_day = 6\n",
    "\n",
    "total_hours = (end_year - start_year + 1) * days_in_each_school_year * hours_per_day\n",
    "\n",
    "print(f\"Total hours spent in school from year {start_year} to year {end_year}: {total_hours}\")"
   ]
  },
  {
   "cell_type": "markdown",
   "id": "63232882",
   "metadata": {},
   "source": [
    "# 15. If the age of Ram,Sam and Khan are input through the keyboard, write a python program to determine the eldest and younger of the three"
   ]
  },
  {
   "cell_type": "code",
   "execution_count": 62,
   "id": "22e534c4",
   "metadata": {},
   "outputs": [
    {
     "name": "stdout",
     "output_type": "stream",
     "text": [
      "Enter Ram's age: 14\n",
      "Enter Sam's age: 15\n",
      "Enter Khan's age: 17\n",
      "The eldest person is Khan with age 17.\n",
      "The youngest person is Ram with age 14.\n"
     ]
    }
   ],
   "source": [
    "def find_elder_and_younger(ram_age, sam_age, khan_age):\n",
    "    ages = {'Ram': ram_age, 'Sam': sam_age, 'Khan': khan_age}\n",
    "\n",
    "    eldest = max(ages, key=ages.get)\n",
    "    youngest = min(ages, key=ages.get)\n",
    "\n",
    "    return eldest, youngest\n",
    "\n",
    "ram_age = int(input(\"Enter Ram's age: \"))\n",
    "sam_age = int(input(\"Enter Sam's age: \"))\n",
    "khan_age = int(input(\"Enter Khan's age: \"))\n",
    "\n",
    "eldest, youngest = find_elder_and_younger(ram_age, sam_age, khan_age)\n",
    "\n",
    "print(f\"The eldest person is {eldest} with age {globals()[f'{eldest.lower()}_age']}.\")\n",
    "print(f\"The youngest person is {youngest} with age {globals()[f'{youngest.lower()}_age']}.\")"
   ]
  },
  {
   "cell_type": "markdown",
   "id": "645ea23e",
   "metadata": {},
   "source": [
    "# 16. Write a python program to rotate a list by right n times with and without slicing technique. "
   ]
  },
  {
   "cell_type": "code",
   "execution_count": 71,
   "id": "819e5215",
   "metadata": {},
   "outputs": [
    {
     "name": "stdout",
     "output_type": "stream",
     "text": [
      "[2, 3, 4, 5, 1]\n"
     ]
    }
   ],
   "source": [
    "def rotate_list_with_slicing(lst, n):\n",
    "    n = n % len(lst)  \n",
    "    rotated_list = lst[-n:] + lst[:-n]\n",
    "    return rotated_list\n",
    "\n",
    "my_list = [1, 2, 3, 4, 5]\n",
    "n = 4\n",
    "rotated_list = rotate_list_with_slicing(my_list, n)\n",
    "print(rotated_list)"
   ]
  },
  {
   "cell_type": "code",
   "execution_count": 70,
   "id": "8df7364e",
   "metadata": {},
   "outputs": [
    {
     "name": "stdout",
     "output_type": "stream",
     "text": [
      "[4, 5, 1, 2, 3]\n"
     ]
    }
   ],
   "source": [
    "def rotate_list_without_slicing(lst, n):\n",
    "    n = n % len(lst) \n",
    "    rotated_list = []\n",
    "    for i in range(len(lst)):\n",
    "        rotated_index = (i + n) % len(lst)\n",
    "        rotated_list.append(lst[rotated_index])\n",
    "    return rotated_list\n",
    "\n",
    "my_list = [1, 2, 3, 4, 5]\n",
    "n = 3\n",
    "rotated_list = rotate_list_without_slicing(my_list, n)\n",
    "print(rotated_list)"
   ]
  },
  {
   "cell_type": "markdown",
   "id": "499aaf3a",
   "metadata": {},
   "source": [
    "# 17. Python program to print the patterns given below\n",
    "\n",
    "i) 1 1 1 1 2 1 1 3 3 1 1 4 6 4 1 1 5 10 10 5 1 1 6 15 20 15 6 1\n",
    "ii) ***************\n",
    "iii) ****************************\n",
    "iv) p py pyt pyth pytho python"
   ]
  },
  {
   "cell_type": "code",
   "execution_count": 86,
   "id": "e4744c97",
   "metadata": {},
   "outputs": [
    {
     "name": "stdout",
     "output_type": "stream",
     "text": [
      "\n",
      "\n",
      "       1        \n",
      "      1 1       \n",
      "     1 2 1      \n",
      "    1 3 3 1     \n",
      "   1 4 6 4 1    \n",
      " 1 5 10 10 5 1  \n",
      "1 6 15 20 15 6 1\n"
     ]
    }
   ],
   "source": [
    "def pattern1(num_rows):\n",
    "        ans =[]\n",
    "        for i in range(num_rows):\n",
    "            row=[1]\n",
    "            if i > 0:\n",
    "                for j in range(1,i):\n",
    "                    element=ans[i - 1][j - 1] + ans[i -1][j]\n",
    "                    row.append(element)\n",
    "                row.append(1)\n",
    "            ans.append(row)\n",
    "        return ans\n",
    "def print_(ans):\n",
    "    max_width =len(' '.join(map(str,ans[-1])))\n",
    "    for row in ans:\n",
    "        formatted_row = ' '.join(map(str,row))\n",
    "        print(formatted_row.center(max_width))\n",
    "num_rows=7\n",
    "print(\"\\n\")\n",
    "triangle=pattern1(num_rows)\n",
    "print_(triangle)"
   ]
  },
  {
   "cell_type": "code",
   "execution_count": 87,
   "id": "575b48ea",
   "metadata": {},
   "outputs": [
    {
     "name": "stdout",
     "output_type": "stream",
     "text": [
      "*  \n",
      "*  *  \n",
      "*  *  *   \n",
      "*  *  *  *   \n",
      "*  *  *  *  *   \n"
     ]
    }
   ],
   "source": [
    "def print_pattern(n):\n",
    "    for i in range(n):\n",
    "        for j in range(i+1):\n",
    "            if j == i and i > 1:\n",
    "                print(\"*\", end=\"   \")\n",
    "            else:\n",
    "                print(\"*\", end=\"  \")\n",
    "        print(\"\")\n",
    "\n",
    "# Example usage:\n",
    "n = 5\n",
    "print_pattern(n)"
   ]
  },
  {
   "cell_type": "code",
   "execution_count": 88,
   "id": "bfb1e591",
   "metadata": {},
   "outputs": [
    {
     "name": "stdout",
     "output_type": "stream",
     "text": [
      "      * \n",
      "     * * \n",
      "    * * * \n",
      "   * * * * \n",
      "  * * * * * \n",
      " * * * * * * \n",
      "* * * * * * * \n"
     ]
    }
   ],
   "source": [
    "rows = 7\n",
    "\n",
    "for i in range(rows):\n",
    "    print(\" \"*(rows-i-1) + \"* \"*(i+1))"
   ]
  },
  {
   "cell_type": "code",
   "execution_count": 89,
   "id": "649af327",
   "metadata": {},
   "outputs": [
    {
     "name": "stdout",
     "output_type": "stream",
     "text": [
      "p\n",
      "py\n",
      "pyt\n",
      "pyth\n",
      "pytho\n",
      "python\n"
     ]
    }
   ],
   "source": [
    "word = \"python\"\n",
    "\n",
    "for i in range(1, len(word) + 1):\n",
    "    print(word[:i])"
   ]
  }
 ],
 "metadata": {
  "kernelspec": {
   "display_name": "Python 3 (ipykernel)",
   "language": "python",
   "name": "python3"
  },
  "language_info": {
   "codemirror_mode": {
    "name": "ipython",
    "version": 3
   },
   "file_extension": ".py",
   "mimetype": "text/x-python",
   "name": "python",
   "nbconvert_exporter": "python",
   "pygments_lexer": "ipython3",
   "version": "3.11.4"
  }
 },
 "nbformat": 4,
 "nbformat_minor": 5
}
