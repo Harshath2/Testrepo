{
 "cells": [
  {
   "cell_type": "markdown",
   "id": "ab8234ed",
   "metadata": {},
   "source": [
    "# 1. Write a python Function to list even and odd numbers in a list"
   ]
  },
  {
   "cell_type": "code",
   "execution_count": 4,
   "id": "37fadfab",
   "metadata": {},
   "outputs": [
    {
     "name": "stdout",
     "output_type": "stream",
     "text": [
      "Even numbers: [2, 4, 6]\n",
      "Odd numbers: [1, 3, 5, 7]\n"
     ]
    }
   ],
   "source": [
    "def list_even_odd(numbers):\n",
    "    even_numbers = [num for num in numbers if num % 2 == 0]\n",
    "    odd_numbers = [num for num in numbers if num % 2 != 0]\n",
    "    \n",
    "    print(\"Even numbers:\", even_numbers)\n",
    "    print(\"Odd numbers:\", odd_numbers)\n",
    "\n",
    "numbers_list = [1, 2, 3, 4, 5, 6, 7]\n",
    "list_even_odd(numbers_list)"
   ]
  },
  {
   "cell_type": "markdown",
   "id": "f0f00046",
   "metadata": {},
   "source": [
    "# 2. Write and run a Python program that asks the user to enter 8 integers (one at a time), and then prints out how many of those integers were even numbers. For example, if the user entered 19, 6, 9, 20, 13, 7, 6, and 1, then your program should print out 3 since 3 of those numbers were even."
   ]
  },
  {
   "cell_type": "code",
   "execution_count": 5,
   "id": "7ead8e65",
   "metadata": {},
   "outputs": [
    {
     "name": "stdout",
     "output_type": "stream",
     "text": [
      "Enter integer 1: 10\n",
      "Enter integer 2: 9\n",
      "Enter integer 3: 1\n",
      "Enter integer 4: 2\n",
      "Enter integer 5: 8\n",
      "Enter integer 6: 7\n",
      "Enter integer 7: 3\n",
      "Enter integer 8: 4\n",
      "The number of even integers entered is: 4\n"
     ]
    }
   ],
   "source": [
    "def count_even_numbers():\n",
    "    even_count = 0\n",
    "\n",
    "    for i in range(8):\n",
    "        user_input = int(input(f\"Enter integer {i + 1}: \"))\n",
    "\n",
    "        if user_input % 2 == 0:\n",
    "            even_count += 1\n",
    "\n",
    "    print(f\"The number of even integers entered is: {even_count}\")\n",
    "\n",
    "count_even_numbers()"
   ]
  },
  {
   "cell_type": "markdown",
   "id": "aeb78800",
   "metadata": {},
   "source": [
    "# 3. Write a Python program where you take any positive integer n, if n is even, divide it by 2 to get n/ 2. If n is odd, multiply it by 3 and add 1 to obtain 3n+ 1. Repeat the process until you reach 1."
   ]
  },
  {
   "cell_type": "code",
   "execution_count": 6,
   "id": "43bca0d1",
   "metadata": {},
   "outputs": [
    {
     "name": "stdout",
     "output_type": "stream",
     "text": [
      "Enter a positive integer: 4\n",
      "Collatz sequence for 4:\n",
      "4 2 1\n"
     ]
    }
   ],
   "source": [
    "def collatz_sequence(n):\n",
    "    print(f\"Collatz sequence for {n}:\")\n",
    "    while n != 1:\n",
    "        print(n, end=' ')\n",
    "        if n % 2 == 0:\n",
    "            n = n // 2\n",
    "        else:\n",
    "            n = 3 * n + 1\n",
    "    print(1)\n",
    "\n",
    "try:\n",
    "    n = int(input(\"Enter a positive integer: \"))\n",
    "    if n <= 0:\n",
    "        raise ValueError\n",
    "    collatz_sequence(n)\n",
    "except ValueError:\n",
    "    print(\"Please enter a positive integer.\")"
   ]
  },
  {
   "cell_type": "markdown",
   "id": "9a371912",
   "metadata": {},
   "source": [
    "# 4. Write a Python program to compute the sum of all the multiples of 3 or 5 below 500"
   ]
  },
  {
   "cell_type": "code",
   "execution_count": 8,
   "id": "3885fd7a",
   "metadata": {},
   "outputs": [
    {
     "name": "stdout",
     "output_type": "stream",
     "text": [
      "The sum of all multiples of 3 or 5 below 500 is: 57918\n"
     ]
    }
   ],
   "source": [
    "def sum_multiples_3_or_5(limit):\n",
    "    total = 0\n",
    "    for i in range(limit):\n",
    "        if i % 3 == 0 or i % 5 == 0:\n",
    "            total += i\n",
    "    return total\n",
    "\n",
    "limit = 500\n",
    "result = sum_multiples_3_or_5(limit)\n",
    "print(f\"The sum of all multiples of 3 or 5 below {limit} is: {result}\")"
   ]
  },
  {
   "cell_type": "markdown",
   "id": "634d7fb6",
   "metadata": {},
   "source": [
    "# 5. To write a Python program to find first 'n' prime numbers from a list of given numbers."
   ]
  },
  {
   "cell_type": "code",
   "execution_count": 10,
   "id": "d6db989b",
   "metadata": {},
   "outputs": [
    {
     "name": "stdout",
     "output_type": "stream",
     "text": [
      "The first 3 prime numbers from the list are: [2, 3, 5]\n"
     ]
    }
   ],
   "source": [
    "def is_prime(num):\n",
    "    if num < 2:\n",
    "        return False\n",
    "    for i in range(2, int(num**0.5) + 1):\n",
    "        if num % i == 0:\n",
    "            return False\n",
    "    return True\n",
    "\n",
    "def find_primes_from_list(n, num_list):\n",
    "    prime_numbers = []\n",
    "    for num in num_list:\n",
    "        if is_prime(num):\n",
    "            prime_numbers.append(num)\n",
    "            if len(prime_numbers) == n:\n",
    "                break\n",
    "    return prime_numbers\n",
    "\n",
    "n = 3\n",
    "num_list = [2, 3, 5, 7, 8, 11, 13, 15]\n",
    "\n",
    "prime_numbers = find_primes_from_list(n, num_list)\n",
    "print(f\"The first {n} prime numbers from the list are: {prime_numbers}\")"
   ]
  },
  {
   "cell_type": "markdown",
   "id": "3d38bfc4",
   "metadata": {},
   "source": [
    "# 6. To write a Python program to compute matrix multiplication."
   ]
  },
  {
   "cell_type": "code",
   "execution_count": 12,
   "id": "eaa7ba5f",
   "metadata": {},
   "outputs": [
    {
     "name": "stdout",
     "output_type": "stream",
     "text": [
      "[31, 27, 23]\n",
      "[79, 72, 65]\n",
      "[127, 117, 107]\n"
     ]
    }
   ],
   "source": [
    "def matrix_multiply(A, B):\n",
    "    result = [[0 for _ in range(len(B[0]))] for _ in range(len(A))]\n",
    "    \n",
    "    for i in range(len(A)):\n",
    "        for j in range(len(B[0])):\n",
    "            for k in range(len(B)):\n",
    "                result[i][j] += A[i][k] * B[k][j]\n",
    "                \n",
    "    return result\n",
    "\n",
    "A = [[1, 2, 3],\n",
    "     [4, 5, 6],\n",
    "     [7, 8, 9]]\n",
    "\n",
    "B = [[4, 5, 6],\n",
    "     [9, 8, 7],\n",
    "     [3, 2, 1]]\n",
    "\n",
    "result = matrix_multiply(A, B)\n",
    "\n",
    "for row in result:\n",
    "    print(row)"
   ]
  },
  {
   "cell_type": "markdown",
   "id": "a0b41ab4",
   "metadata": {},
   "source": [
    "# 7. Write a python Function to count the number of vowels in a string."
   ]
  },
  {
   "cell_type": "code",
   "execution_count": 17,
   "id": "044d90f7",
   "metadata": {},
   "outputs": [
    {
     "name": "stdout",
     "output_type": "stream",
     "text": [
      "There are 6 vowels in the string.\n"
     ]
    }
   ],
   "source": [
    "def count_vowels(string):\n",
    "    vowels = 'aeiouAEIOU'\n",
    "    count = 0\n",
    "    for char in string:\n",
    "        if char in vowels:\n",
    "            count += 1\n",
    "    return count\n",
    "\n",
    "input_string = \"Hey, how are you?\"\n",
    "num_vowels = count_vowels(input_string)\n",
    "print(f\"There are {num_vowels} vowels in the string.\")"
   ]
  },
  {
   "cell_type": "markdown",
   "id": "538fe00a",
   "metadata": {},
   "source": [
    "# 8. Write a python Function for finding factorial for the given number using a recursive function"
   ]
  },
  {
   "cell_type": "code",
   "execution_count": 24,
   "id": "129919fb",
   "metadata": {},
   "outputs": [
    {
     "name": "stdout",
     "output_type": "stream",
     "text": [
      "The factorial of 4 is: 24\n"
     ]
    }
   ],
   "source": [
    "def factorial(n):\n",
    "    if n == 0 or n == 1:\n",
    "        return 1\n",
    "    else:\n",
    "        return n * factorial(n-1)\n",
    "\n",
    "result = factorial(4)\n",
    "print(f\"The factorial of 4 is: {result}\")"
   ]
  },
  {
   "cell_type": "markdown",
   "id": "f02b79f1",
   "metadata": {},
   "source": [
    "# 9. Write a python Function for generating the Fibonacci series using the function."
   ]
  },
  {
   "cell_type": "code",
   "execution_count": 25,
   "id": "e02cc18f",
   "metadata": {},
   "outputs": [
    {
     "name": "stdout",
     "output_type": "stream",
     "text": [
      "[0, 1, 1, 2, 3, 5, 8, 13, 21, 34]\n"
     ]
    }
   ],
   "source": [
    "def fibonacci(n):\n",
    "    fib_sequence = [0, 1]\n",
    "    \n",
    "    if n <= 0:\n",
    "        return \"Input should be a positive integer\"\n",
    "    elif n == 1:\n",
    "        return [0]\n",
    "    elif n == 2:\n",
    "        return fib_sequence\n",
    "    \n",
    "    while len(fib_sequence) < n:\n",
    "        fib_sequence.append(fib_sequence[-1] + fib_sequence[-2])\n",
    "    \n",
    "    return fib_sequence\n",
    "\n",
    "result = fibonacci(10)\n",
    "print(result)"
   ]
  },
  {
   "cell_type": "markdown",
   "id": "64796d6e",
   "metadata": {},
   "source": [
    "# 10. Python program to display the given integer in reverse order using the function without an in-built"
   ]
  },
  {
   "cell_type": "code",
   "execution_count": 28,
   "id": "240017a6",
   "metadata": {},
   "outputs": [
    {
     "name": "stdout",
     "output_type": "stream",
     "text": [
      "Enter an integer: 9\n",
      "The integer in reverse order is: 9\n"
     ]
    }
   ],
   "source": [
    "def reverse_integer(num):\n",
    "    reversed_num = 0\n",
    "    while num > 0:\n",
    "        reversed_num = reversed_num * 10 + num % 10\n",
    "        num = num // 10\n",
    "    return reversed_num\n",
    "\n",
    "try:\n",
    "    num = int(input(\"Enter an integer: \"))\n",
    "    reversed_num = reverse_integer(num)\n",
    "    print(f\"The integer in reverse order is: {reversed_num}\")\n",
    "except ValueError:\n",
    "    print(\"Invalid input. Please enter a valid integer.\")"
   ]
  },
  {
   "cell_type": "markdown",
   "id": "ed5ba2bc",
   "metadata": {},
   "source": [
    "# 11. Write a Python Function to display all integers within the range 200-300 whose sum of digits is an even number"
   ]
  },
  {
   "cell_type": "code",
   "execution_count": 29,
   "id": "b12e3148",
   "metadata": {},
   "outputs": [
    {
     "name": "stdout",
     "output_type": "stream",
     "text": [
      "200\n",
      "202\n",
      "204\n",
      "206\n",
      "208\n",
      "211\n",
      "213\n",
      "215\n",
      "217\n",
      "219\n",
      "220\n",
      "222\n",
      "224\n",
      "226\n",
      "228\n",
      "231\n",
      "233\n",
      "235\n",
      "237\n",
      "239\n",
      "240\n",
      "242\n",
      "244\n",
      "246\n",
      "248\n",
      "251\n",
      "253\n",
      "255\n",
      "257\n",
      "259\n",
      "260\n",
      "262\n",
      "264\n",
      "266\n",
      "268\n",
      "271\n",
      "273\n",
      "275\n",
      "277\n",
      "279\n",
      "280\n",
      "282\n",
      "284\n",
      "286\n",
      "288\n",
      "291\n",
      "293\n",
      "295\n",
      "297\n",
      "299\n"
     ]
    }
   ],
   "source": [
    "def is_sum_of_digits_even(number):\n",
    "    sum_of_digits = sum(int(digit) for digit in str(number))\n",
    "    return sum_of_digits % 2 == 0\n",
    "\n",
    "def display_numbers_with_even_digit_sum(start, end):\n",
    "    for num in range(start, end + 1):\n",
    "        if is_sum_of_digits_even(num):\n",
    "            print(num)\n",
    "\n",
    "display_numbers_with_even_digit_sum(200, 300)"
   ]
  },
  {
   "cell_type": "markdown",
   "id": "fc8d7c05",
   "metadata": {},
   "source": [
    "# 12. Write a python Function to find the number of digits and sum of digits for a given integer."
   ]
  },
  {
   "cell_type": "code",
   "execution_count": 30,
   "id": "5f3468bf",
   "metadata": {},
   "outputs": [
    {
     "name": "stdout",
     "output_type": "stream",
     "text": [
      "Number of digits in 123: 3\n",
      "Sum of digits in 123: 6\n"
     ]
    }
   ],
   "source": [
    "def count_digits_and_sum(number):\n",
    "   \n",
    "    count = 0\n",
    "    total_sum = 0\n",
    "    \n",
    "   \n",
    "    number = abs(number)\n",
    "    \n",
    "    while number > 0:\n",
    "     \n",
    "        digit = number % 10\n",
    "        \n",
    "       \n",
    "        total_sum += digit\n",
    "        \n",
    "        \n",
    "        number = number // 10\n",
    "        \n",
    "       \n",
    "        count += 1\n",
    "    \n",
    "    return count, total_sum\n",
    "\n",
    "num = 123\n",
    "num_digits, digit_sum = count_digits_and_sum(num)\n",
    "\n",
    "print(f\"Number of digits in {num}: {num_digits}\")\n",
    "print(f\"Sum of digits in {num}: {digit_sum}\")"
   ]
  },
  {
   "cell_type": "markdown",
   "id": "513af12d",
   "metadata": {},
   "source": [
    "# 13. Write functions called is_sorted that takes a list as a parameter and returns True if the list is sorted in ascending order and False otherwise and has_ duplicates that takes a list and returns True if there is any element that appears more than once. It should not modify the original list."
   ]
  },
  {
   "cell_type": "code",
   "execution_count": 34,
   "id": "ac8210f4",
   "metadata": {},
   "outputs": [
    {
     "name": "stdout",
     "output_type": "stream",
     "text": [
      "True\n",
      "False\n",
      "True\n",
      "False\n"
     ]
    }
   ],
   "source": [
    "def is_sorted(lst):\n",
    "    return all(lst[i] <= lst[i+1] for i in range(len(lst)-1))\n",
    "\n",
    "def has_duplicates(lst):\n",
    "    return any(lst.count(x) > 1 for x in lst)\n",
    "\n",
    "list1 = [1, 2, 3, 4, 5]\n",
    "print(is_sorted(list1))  \n",
    "\n",
    "list2 = [4, 3, 2, 1]\n",
    "print(is_sorted(list2))  \n",
    "\n",
    "\n",
    "list3 = [1, 2, 1, 3, 4, 5]\n",
    "print(has_duplicates(list3))  \n",
    "\n",
    "list4 = [1, 2, 3, 4, 5]\n",
    "print(has_duplicates(list4))"
   ]
  },
  {
   "cell_type": "markdown",
   "id": "be4473bf",
   "metadata": {},
   "source": [
    "# 14. Write functions called nested sum that takes a list of integers and adds up the elements from all the nested lists and cumsum that takes a list of numbers and returns the cumulative sum; that is, a new list where the ith element is the sum of the first i + 1 elements from the original list."
   ]
  },
  {
   "cell_type": "code",
   "execution_count": 35,
   "id": "51994b29",
   "metadata": {},
   "outputs": [
    {
     "name": "stdout",
     "output_type": "stream",
     "text": [
      "36\n",
      "[1, 3, 6, 10, 15]\n"
     ]
    }
   ],
   "source": [
    "def nested_sum(lst):\n",
    "    total = 0\n",
    "    for element in lst:\n",
    "        if isinstance(element, list):\n",
    "            total += nested_sum(element)\n",
    "        else:\n",
    "            total += element\n",
    "    return total\n",
    "\n",
    "def cumsum(lst):\n",
    "    cumulative_sum = 0\n",
    "    result = []\n",
    "    for num in lst:\n",
    "        cumulative_sum += num\n",
    "        result.append(cumulative_sum)\n",
    "    return result\n",
    "\n",
    "nested_list = [1, 2, [3, 4, [5, 6]], [7, 8]]\n",
    "result_nested_sum = nested_sum(nested_list)\n",
    "print(result_nested_sum) \n",
    "\n",
    "\n",
    "original_list = [1, 2, 3, 4, 5]\n",
    "result_cumsum = cumsum(original_list)\n",
    "print(result_cumsum)"
   ]
  }
 ],
 "metadata": {
  "kernelspec": {
   "display_name": "Python 3 (ipykernel)",
   "language": "python",
   "name": "python3"
  },
  "language_info": {
   "codemirror_mode": {
    "name": "ipython",
    "version": 3
   },
   "file_extension": ".py",
   "mimetype": "text/x-python",
   "name": "python",
   "nbconvert_exporter": "python",
   "pygments_lexer": "ipython3",
   "version": "3.11.4"
  }
 },
 "nbformat": 4,
 "nbformat_minor": 5
}
